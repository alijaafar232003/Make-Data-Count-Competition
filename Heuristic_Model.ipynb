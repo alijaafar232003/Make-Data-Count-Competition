{
 "cells": [
  {
   "cell_type": "markdown",
   "id": "3e536f07",
   "metadata": {},
   "source": [
    "Heuristic Model for training dataset"
   ]
  },
  {
   "cell_type": "code",
   "execution_count": 1,
   "id": "13e07bc9",
   "metadata": {},
   "outputs": [
    {
     "name": "stdout",
     "output_type": "stream",
     "text": [
      "✅ Submission file saved as 'submission_train.csv'\n"
     ]
    }
   ],
   "source": [
    "import pandas as pd\n",
    "\n",
    "# Load dataset_mentions_test\n",
    "test_df = pd.read_csv(\"dataset_mentions_train.csv\")\n",
    "\n",
    "def normalize_doi(doi):\n",
    "    \"\"\"\n",
    "    Ensure the dataset_id is formatted as a DOI URL: https://doi.org/...\n",
    "    \"\"\"\n",
    "    doi = str(doi).strip()\n",
    "    if doi.startswith(\"http://doi.org/\") or doi.startswith(\"https://doi.org/\"):\n",
    "        return doi.replace(\"http://\", \"https://\")\n",
    "    elif doi.startswith(\"10.\"):\n",
    "        return \"https://doi.org/\" + doi\n",
    "    return doi  # fallback for non-DOI dataset_id\n",
    "\n",
    "def get_prefix(doi):\n",
    "    \"\"\"\n",
    "    Extract the prefix from a DOI-like string (10.xxxx)\n",
    "    \"\"\"\n",
    "    if \"/\" in doi:\n",
    "        return doi.split(\"/\")[0]\n",
    "    return None\n",
    "\n",
    "# Clean dataset_id\n",
    "test_df[\"dataset_id\"] = test_df[\"dataset_id\"].apply(normalize_doi)\n",
    "\n",
    "# Extract prefixes\n",
    "test_df[\"article_prefix\"] = test_df[\"article_id\"].apply(lambda x: x.split(\"_\")[0])\n",
    "test_df[\"dataset_prefix\"] = test_df[\"dataset_id\"].apply(lambda x: get_prefix(x.replace(\"https://doi.org/\", \"\")))\n",
    "\n",
    "# Determine type\n",
    "test_df[\"type\"] = test_df.apply(lambda row: \"Primary\" if row[\"article_prefix\"] == row[\"dataset_prefix\"] else \"Secondary\", axis=1)\n",
    "\n",
    "# Create row_id\n",
    "test_df.reset_index(inplace=True)\n",
    "test_df.rename(columns={\"index\": \"row_id\"}, inplace=True)\n",
    "\n",
    "# Prepare final submission DataFrame\n",
    "submission_df = test_df[[\"row_id\", \"article_id\", \"dataset_id\", \"type\"]]\n",
    "submission_df.to_csv(\"submission_train.csv\", index=False)\n",
    "\n",
    "print(\"✅ Submission file saved as 'submission_train.csv'\")\n"
   ]
  },
  {
   "cell_type": "markdown",
   "id": "9f74b580",
   "metadata": {},
   "source": [
    "Heuristic Model for test dataset (Submission)"
   ]
  },
  {
   "cell_type": "code",
   "execution_count": 2,
   "id": "58b56e90",
   "metadata": {},
   "outputs": [
    {
     "name": "stdout",
     "output_type": "stream",
     "text": [
      "✅ Submission file saved as 'submission.csv'\n"
     ]
    }
   ],
   "source": [
    "import pandas as pd\n",
    "\n",
    "# Load dataset_mentions_test\n",
    "test_df = pd.read_csv(\"dataset_mentions_test.csv\")\n",
    "\n",
    "def normalize_doi(doi):\n",
    "    \"\"\"\n",
    "    Ensure the dataset_id is formatted as a DOI URL: https://doi.org/...\n",
    "    \"\"\"\n",
    "    doi = str(doi).strip()\n",
    "    if doi.startswith(\"http://doi.org/\") or doi.startswith(\"https://doi.org/\"):\n",
    "        return doi.replace(\"http://\", \"https://\")\n",
    "    elif doi.startswith(\"10.\"):\n",
    "        return \"https://doi.org/\" + doi\n",
    "    return doi  # fallback for non-DOI dataset_id\n",
    "\n",
    "def get_prefix(doi):\n",
    "    \"\"\"\n",
    "    Extract the prefix from a DOI-like string (10.xxxx)\n",
    "    \"\"\"\n",
    "    if \"/\" in doi:\n",
    "        return doi.split(\"/\")[0]\n",
    "    return None\n",
    "\n",
    "# Clean dataset_id\n",
    "test_df[\"dataset_id\"] = test_df[\"dataset_id\"].apply(normalize_doi)\n",
    "\n",
    "# Extract prefixes\n",
    "test_df[\"article_prefix\"] = test_df[\"article_id\"].apply(lambda x: x.split(\"_\")[0])\n",
    "test_df[\"dataset_prefix\"] = test_df[\"dataset_id\"].apply(lambda x: get_prefix(x.replace(\"https://doi.org/\", \"\")))\n",
    "\n",
    "# Determine type\n",
    "test_df[\"type\"] = test_df.apply(lambda row: \"Primary\" if row[\"article_prefix\"] == row[\"dataset_prefix\"] else \"Secondary\", axis=1)\n",
    "\n",
    "# Create row_id\n",
    "test_df.reset_index(inplace=True)\n",
    "test_df.rename(columns={\"index\": \"row_id\"}, inplace=True)\n",
    "\n",
    "# Prepare final submission DataFrame\n",
    "submission_df = test_df[[\"row_id\", \"article_id\", \"dataset_id\", \"type\"]]\n",
    "submission_df.to_csv(\"submission.csv\", index=False)\n",
    "\n",
    "print(\"✅ Submission file saved as 'submission.csv'\")\n"
   ]
  },
  {
   "cell_type": "code",
   "execution_count": null,
   "id": "1ad74eaf",
   "metadata": {},
   "outputs": [],
   "source": []
  },
  {
   "cell_type": "code",
   "execution_count": null,
   "id": "012a8172",
   "metadata": {},
   "outputs": [],
   "source": []
  }
 ],
 "metadata": {
  "kernelspec": {
   "display_name": "AI_ENV",
   "language": "python",
   "name": "python3"
  },
  "language_info": {
   "codemirror_mode": {
    "name": "ipython",
    "version": 3
   },
   "file_extension": ".py",
   "mimetype": "text/x-python",
   "name": "python",
   "nbconvert_exporter": "python",
   "pygments_lexer": "ipython3",
   "version": "3.10.18"
  }
 },
 "nbformat": 4,
 "nbformat_minor": 5
}
