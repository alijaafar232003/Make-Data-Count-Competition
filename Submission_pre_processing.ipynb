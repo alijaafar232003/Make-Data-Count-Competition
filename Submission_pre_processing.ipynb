{
 "cells": [
  {
   "cell_type": "markdown",
   "id": "7c0e9249",
   "metadata": {},
   "source": [
    "Remove Duplicates"
   ]
  },
  {
   "cell_type": "code",
   "execution_count": null,
   "id": "b7cb6b66",
   "metadata": {},
   "outputs": [
    {
     "name": "stdout",
     "output_type": "stream",
     "text": [
      "✅ Final submission has 1431 unique rows. Saved to submission.csv.\n"
     ]
    }
   ],
   "source": [
    "import pandas as pd\n",
    "\n",
    "# Load your submission file\n",
    "df = pd.read_csv(\"submission.csv\")\n",
    "\n",
    "# Drop duplicates based on article_id and dataset_id\n",
    "df_unique = df.drop_duplicates(subset=[\"article_id\", \"dataset_id\"])\n",
    "\n",
    "# Reset row_id\n",
    "df_unique = df_unique.reset_index(drop=True)\n",
    "df_unique[\"row_id\"] = df_unique.index\n",
    "\n",
    "# Save back to CSV\n",
    "df_unique.to_csv(\"submission.csv\", index=False)\n",
    "\n",
    "print(f\"✅ Final submission has {len(df_unique)} unique rows. Saved to submission.csv.\")\n"
   ]
  },
  {
   "cell_type": "code",
   "execution_count": 2,
   "id": "f7d45108",
   "metadata": {},
   "outputs": [
    {
     "name": "stdout",
     "output_type": "stream",
     "text": [
      "✅ Final submission has 20791 unique rows. Saved to submission_train.csv.\n"
     ]
    }
   ],
   "source": [
    "import pandas as pd\n",
    "\n",
    "# Load your submission file\n",
    "df = pd.read_csv(\"submission_train.csv\")\n",
    "\n",
    "# Drop duplicates based on article_id and dataset_id\n",
    "df_unique = df.drop_duplicates(subset=[\"article_id\", \"dataset_id\"])\n",
    "\n",
    "# Reset row_id\n",
    "df_unique = df_unique.reset_index(drop=True)\n",
    "df_unique[\"row_id\"] = df_unique.index\n",
    "\n",
    "# Save back to CSV\n",
    "df_unique.to_csv(\"submission_train.csv\", index=False)\n",
    "\n",
    "print(f\"✅ Final submission has {len(df_unique)} unique rows. Saved to submission_train.csv.\")\n"
   ]
  },
  {
   "cell_type": "code",
   "execution_count": null,
   "id": "afbd1a21",
   "metadata": {},
   "outputs": [],
   "source": []
  },
  {
   "cell_type": "code",
   "execution_count": null,
   "id": "579deae6",
   "metadata": {},
   "outputs": [],
   "source": []
  }
 ],
 "metadata": {
  "kernelspec": {
   "display_name": "AI_ENV",
   "language": "python",
   "name": "python3"
  },
  "language_info": {
   "codemirror_mode": {
    "name": "ipython",
    "version": 3
   },
   "file_extension": ".py",
   "mimetype": "text/x-python",
   "name": "python",
   "nbconvert_exporter": "python",
   "pygments_lexer": "ipython3",
   "version": "3.10.18"
  }
 },
 "nbformat": 4,
 "nbformat_minor": 5
}
